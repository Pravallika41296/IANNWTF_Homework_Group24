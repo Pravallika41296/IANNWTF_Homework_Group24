{
  "nbformat": 4,
  "nbformat_minor": 0,
  "metadata": {
    "colab": {
      "name": "IANNWTF_Homework09_Group24.ipynb",
      "provenance": [],
      "authorship_tag": "ABX9TyOnmaQeLGcEV1S0e/MLD5n6",
      "include_colab_link": true
    },
    "kernelspec": {
      "name": "python3",
      "display_name": "Python 3"
    }
  },
  "cells": [
    {
      "cell_type": "markdown",
      "metadata": {
        "id": "view-in-github",
        "colab_type": "text"
      },
      "source": [
        "<a href=\"https://colab.research.google.com/github/Pravallika41296/IANNWTF_Homework_Group24/blob/main/IANNWTF_Homework09_Group24.ipynb\" target=\"_parent\"><img src=\"https://colab.research.google.com/assets/colab-badge.svg\" alt=\"Open In Colab\"/></a>"
      ]
    },
    {
      "cell_type": "code",
      "metadata": {
        "id": "sZq9tGNlZpR8"
      },
      "source": [
        "\r\n",
        "import datetime\r\n",
        "import numpy as np\r\n",
        "%tensorflow_version 2.x\r\n",
        "import tensorflow as tf\r\n",
        "import matplotlib.pyplot as plt\r\n",
        "from tensorflow.keras import Model\r\n",
        "import pandas as pd\r\n",
        "import time\r\n",
        "\r\n",
        "from tensorflow.keras import layers, losses\r\n",
        "from sklearn.manifold import TSNE \r\n",
        "from bokeh.models import ColumnDataSource, LabelSet\r\n",
        "from bokeh.io import output_notebook\r\n",
        "from bokeh.plotting import figure, show, output_file"
      ],
      "execution_count": 2,
      "outputs": []
    },
    {
      "cell_type": "code",
      "metadata": {
        "id": "xw1IVCFX-EeV"
      },
      "source": [
        "import random\r\n",
        "randomcontext = []\r\n",
        "for i in range(0,50):\r\n",
        "  n = random.randint(10,50)\r\n",
        "  randomcontext.append(n)\r\n",
        "print(randomcontext)"
      ],
      "execution_count": null,
      "outputs": []
    },
    {
      "cell_type": "code",
      "metadata": {
        "id": "S9mmjbuB-Gw6"
      },
      "source": [
        "from random import randint\r\n",
        "randomsequence = []\r\n",
        "def random_with_N_digits(n):\r\n",
        "    range_start = 10**(n-1)\r\n",
        "    range_end = (10**n)-1\r\n",
        "    return int(randint(range_start, range_end))\r\n",
        "\r\n",
        "randomSequence = []\r\n",
        "for i in range(0,50):\r\n",
        "  n = random_with_N_digits(22)\r\n",
        "  randomSequence.append(n)\r\n",
        "print(randomSequence)"
      ],
      "execution_count": null,
      "outputs": []
    },
    {
      "cell_type": "code",
      "metadata": {
        "id": "6E0AmSae-I7p"
      },
      "source": [
        "target = []\r\n",
        "for i in range(len(randomcontext)):\r\n",
        "  count = []\r\n",
        "  first = 0 \r\n",
        "  second = 1\r\n",
        "  third = 2\r\n",
        "  for x in str(randomcontext[i]):\r\n",
        "    count.append(str(randomSequence[i]).count(x))\r\n",
        "  if count[0] > count[1]:\r\n",
        "    target.append(first)\r\n",
        "  elif count[0] < count[1]:\r\n",
        "    target.append(second)\r\n",
        "  else:\r\n",
        "    target.append(third)\r\n",
        "target"
      ],
      "execution_count": null,
      "outputs": []
    },
    {
      "cell_type": "code",
      "metadata": {
        "id": "undZ84Ln-LiR"
      },
      "source": [
        "output = np.array([[target[i]] for i in range(len(target))])\r\n",
        "output_tensor = tf.convert_to_tensor(output)\r\n",
        "y_data = tf.one_hot(output_tensor, 3)\r\n",
        "context_input = np.array([[randomcontext[i]] for i in range(len(randomcontext))])\r\n",
        "context_tensor = tf.data.Dataset.from_tensor_slices(context_input)\r\n",
        "context_data = tf.one_hot(output_tensor, 10)\r\n",
        "sequence = np.array(([[randomSequence[i]] for i in range(len(randomcontext))]))\r\n",
        "sequence_tensor = tf.convert_to_tensor(seq)"
      ],
      "execution_count": null,
      "outputs": []
    },
    {
      "cell_type": "code",
      "metadata": {
        "id": "F4ghraxlZuZn"
      },
      "source": [
        "class LSTM_cell(tf.keras.Model):\r\n",
        "    \"\"\"\r\n",
        "    A simple LSTM cell network\r\n",
        "    \"\"\"\r\n",
        "    def __init__(self, input_length=10, hidden_length=20):\r\n",
        "        super(LSTM_cell, self).__init__()\r\n",
        "        self.input_length = input_length\r\n",
        "        self.hidden_length = hidden_length\r\n",
        "\r\n",
        "        # forget gate components\r\n",
        "        self.linear_forget_w1 = tf.keras.layers.Dense(self.input_length, self.hidden_length, bias=True)\r\n",
        "        self.linear_forget_r1 = tf.keras.layers.Dense(self.hidden_length, self.hidden_length, bias=False)\r\n",
        "        self.sigmoid_forget = tf.Sigmoid()\r\n",
        "\r\n",
        "        # input gate components\r\n",
        "        self.linear_gate_w2 = tf.keras.layers.Dense(self.input_length, self.hidden_length, bias=True)\r\n",
        "        self.linear_gate_r2 = tf.keras.layers.Dense(self.hidden_length, self.hidden_length, bias=False)\r\n",
        "        self.sigmoid_gate = tf.sigmoid()\r\n",
        "\r\n",
        "        # cell memory components\r\n",
        "        self.linear_gate_w3 = tf.keras.layers.Dense(self.input_length, self.hidden_length, bias=True)\r\n",
        "        self.linear_gate_r3 = tf.keras.layers.Dense(self.hidden_length, self.hidden_length, bias=False)\r\n",
        "        self.activation_gate = tf.tanh()\r\n",
        "\r\n",
        "        # out gate components\r\n",
        "        self.linear_gate_w4 = tf.keras.layers.Dense(self.input_length, self.hidden_length, bias=True)\r\n",
        "        self.linear_gate_r4 = tf.keras.layers.Dense(self.hidden_length, self.hidden_length, bias=False)\r\n",
        "        self.sigmoid_hidden_out = tf.Sigmoid()\r\n",
        "\r\n",
        "        self.activation_final = tf.tanh()\r\n",
        "\r\n",
        "    def forget(self, x, h):\r\n",
        "        x = self.linear_forget_w1(x)\r\n",
        "        h = self.linear_forget_r1(h)\r\n",
        "        return self.sigmoid_forget(x + h)\r\n",
        "\r\n",
        "    def input_gate(self, x, h):\r\n",
        "\r\n",
        "        # Equation 1. input gate\r\n",
        "        x_temp = self.linear_gate_w2(x)\r\n",
        "        h_temp = self.linear_gate_r2(h)\r\n",
        "        i = self.sigmoid_gate(x_temp + h_temp)\r\n",
        "        return i\r\n",
        "\r\n",
        "    def cell_memory_gate(self, i, f, x, h, c_prev):\r\n",
        "        x = self.linear_gate_w3(x)\r\n",
        "        h = self.linear_gate_r3(h)\r\n",
        "\r\n",
        "        # new information part that will be injected in the new context\r\n",
        "        k = self.activation_gate(x + h)\r\n",
        "        g = k * i\r\n",
        "\r\n",
        "        # forget old context/cell info\r\n",
        "        c = f * c_prev\r\n",
        "        # learn new context/cell info\r\n",
        "        c_next = g + c\r\n",
        "        return c_next\r\n",
        "\r\n",
        "    def out_gate(self, x, h):\r\n",
        "        x = self.linear_gate_w4(x)\r\n",
        "        h = self.linear_gate_r4(h)\r\n",
        "        return self.sigmoid_hidden_out(x + h)\r\n",
        "\r\n",
        "    def call(self, x, tuple_in ):\r\n",
        "        (h, c_prev) = tuple_in\r\n",
        "        # Equation 1. input gate\r\n",
        "        i = self.input_gate(x, h)\r\n",
        "\r\n",
        "        # Equation 2. forget gate\r\n",
        "        f = self.forget(x, h)\r\n",
        "\r\n",
        "        # Equation 3. updating the cell memory\r\n",
        "        c_next = self.cell_memory_gate(i, f, x, h,c_prev)\r\n",
        "\r\n",
        "        # Equation 4. calculate the main output gate\r\n",
        "        o = self.out_gate(x, h)\r\n",
        "\r\n",
        "\r\n",
        "        # Equation 5. produce next hidden output\r\n",
        "        h_next = o * self.activation_final(c_next)\r\n",
        "\r\n",
        "        return h_next, c_next"
      ],
      "execution_count": null,
      "outputs": []
    },
    {
      "cell_type": "code",
      "metadata": {
        "id": "U73f-NfFf_bk"
      },
      "source": [
        "class LSTM(tf.keras.Model):\r\n",
        "    \"\"\"\r\n",
        "    LSTM network\r\n",
        "    \"\"\"\r\n",
        "    def __init__(self):\r\n",
        "        super(LSTM, self).__init__()\r\n",
        "\r\n",
        "    def call(self, input params):\r\n",
        "    #defining the number of time steps call the LSTM cells\r\n",
        "    batch_size, timesteps, input_size = input params\r\n",
        "    for i in timesteps:\r\n",
        "      lstm1 = LSTM_cell()\r\n",
        "      lsmt2 = LSTM_cell()\r\n",
        "    #input [batch_size, timesteps, input_size]\r\n",
        "    #output [batch_size, timesteps, output_size]\r\n",
        "\r\n",
        "    #unrolling in eager execution\r\n"
      ],
      "execution_count": null,
      "outputs": []
    },
    {
      "cell_type": "code",
      "metadata": {
        "id": "i3UJrQp9takx"
      },
      "source": [
        "class ModelTogether(tf.keras.Model):\r\n",
        "\r\n",
        "  def __init__(self):\r\n",
        "     super(ModelTogether, self).__init__()\r\n",
        "\r\n",
        "  #read in the input layer\r\n",
        "\r\n",
        "  #call LSTM with zero state\r\n",
        "\r\n",
        "  #output layer"
      ],
      "execution_count": null,
      "outputs": []
    }
  ]
}