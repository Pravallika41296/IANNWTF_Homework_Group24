{
 "cells": [
  {
   "cell_type": "code",
   "execution_count": 23,
   "metadata": {},
   "outputs": [],
   "source": [
    "import numpy as np"
   ]
  },
  {
   "cell_type": "code",
   "execution_count": 24,
   "metadata": {},
   "outputs": [],
   "source": [
    "x = np.array([[0,0], [0,1],[1,0],[1,1]])\n",
    "\n",
    "#targets\n",
    "\n",
    "t_and = np.array([0,0,0,1])\n",
    "t_or= np.array([0,1,1,1])\n",
    "t_nand= np.array([1,1,1,0])\n",
    "t_nor= np.array([1,0,0,0])\n",
    "t_xor= np.array([0,1,1,0])"
   ]
  },
  {
   "cell_type": "code",
   "execution_count": 25,
   "metadata": {},
   "outputs": [],
   "source": [
    "#creating a class\n",
    "\n",
    "class Perceptron:\n",
    "    \"\"\"Insert documentation\"\"\"\n",
    "    def __init__(self, input_units):\n",
    "        self.input_units = input_units\n",
    "        #learning rate\n",
    "        self.alpha = 0.01\n",
    "        self.weights = np.random.randn(self.input_units) \n",
    "        self.bias = np.random.randn(1)\n",
    "        \n",
    "    def forward_step(self, data):\n",
    "        #calculating the drive as sum of weights*inputs + bias \n",
    "        drive = np.dot(self.weights, data) + self.bias\n",
    "        #drive = self.weights @ input + self.bias \n",
    "        return int(drive >=0)\n",
    "        \n",
    "    def training_step(self, input, label):\n",
    "        #1 forward_step\n",
    "        output = self.forward_step(input)\n",
    "        #2 calculate weight updates \n",
    "        updates_w = self.alpha * (label-output) * input\n",
    "        #3 bias update\n",
    "        updates_b = self.alpha * (label-output) * 1\n",
    "        #updates\n",
    "        self.weights += updates_w\n",
    "        self.bias += updates_b\n",
    "        "
   ]
  },
  {
   "cell_type": "code",
   "execution_count": 21,
   "metadata": {},
   "outputs": [],
   "source": [
    "#training\n",
    "\n",
    "#target that we are training on \n",
    "t = t_and\n",
    "\n",
    "#new perceptron instance \n",
    "perceptron = Perceptron(2)\n",
    "\n",
    "#training loop\n",
    "steps = []\n",
    "accuracies = []\n",
    "\n",
    "for i in range(500):\n",
    "    #take a random sample from data, get the corresponding t\n",
    "    \n",
    "    index= np.random.randint(4)\n",
    "    input = x[index]\n",
    "    target = t[index]\n",
    "    \n",
    "    #perform a training step\n",
    "    perceptron.training_step(input, target)\n",
    "    \n",
    "    #how does our perceptron perform?\n",
    "    #performance over all possible inputs\n",
    "    accuracy_sum = 0\n",
    "    for k in range(4):\n",
    "        output = perceptron.forward_step(x[k])\n",
    "        accuracy_sum += int(output == t[k])\n",
    "    \n",
    "    accuracy = accuracy_sum/4\n",
    "    accuracies.append(accuracy)\n",
    "    \n",
    "    \n",
    "    "
   ]
  },
  {
   "cell_type": "code",
   "execution_count": 26,
   "metadata": {},
   "outputs": [
    {
     "data": {
      "image/png": "[encoded data removed]",
      "text/plain": [
       "<Figure size 432x288 with 1 Axes>"
      ]
     },
     "metadata": {
      "needs_background": "light"
     },
     "output_type": "display_data"
    }
   ],
   "source": [
    "#visualize the training \n",
    "import matplotlib.pyplot as plt\n",
    "\n",
    "plt.figure()\n",
    "plt.plot(steps,accuracies)\n",
    "plt.xlabel(\"Training steps\")\n",
    "plt.ylabel(\"Accuracy\")\n",
    "plt.ylim([-0.1,1.2])\n",
    "plt.show()\n"
   ]
  }
 ],
 "metadata": {
  "kernelspec": {
   "display_name": "Python 3",
   "language": "python",
   "name": "python3"
  },
  "language_info": {
   "codemirror_mode": {
    "name": "ipython",
    "version": 3
   },
   "file_extension": ".py",
   "mimetype": "text/x-python",
   "name": "python",
   "nbconvert_exporter": "python",
   "pygments_lexer": "ipython3",
   "version": "3.7.9"
  }
 },
 "nbformat": 4,
 "nbformat_minor": 4
}
