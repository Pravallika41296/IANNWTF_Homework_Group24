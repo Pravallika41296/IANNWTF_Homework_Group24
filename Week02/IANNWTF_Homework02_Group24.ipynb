{
 "cells": [
  {
   "cell_type": "code",
   "execution_count": 1,
   "metadata": {},
   "outputs": [],
   "source": [
    "import numpy as np\n",
    "import matplotlib.pyplot as plt       "
   ]
  },
  {
   "cell_type": "code",
   "execution_count": 2,
   "metadata": {},
   "outputs": [],
   "source": [
    "#input data    \n",
    "X = np.array([[0,0], [0,1], [1,0], [1,1]])\n",
    "\n",
    "#targets\n",
    "\n",
    "t_and = np.array([0, 0, 0, 1])\n",
    "t_or= np.array([0, 1, 1, 1])\n",
    "t_nand= np.array([1, 1, 1, 0])\n",
    "t_nor= np.array([1, 0, 0, 0])\n",
    "t_xor= np.array([0, 1, 1, 0])"
   ]
  },
  {
   "cell_type": "code",
   "execution_count": 3,
   "metadata": {},
   "outputs": [],
   "source": [
    "#activation function.\n",
    "def sigmoid(x):\n",
    "    return 1/(1+np.exp(-x))\n",
    "\n",
    "\n",
    "#first derivative of the activation function.\n",
    "def sigmoid_derivative(x):\n",
    "    return sigmoid(x)*(1-sigmoid(x))\n"
   ]
  },
  {
   "cell_type": "code",
   "execution_count": 4,
   "metadata": {},
   "outputs": [],
   "source": [
    "# Implementing the perceptron.\n",
    "class Perceptron:\n",
    "    \n",
    "    def __init__(self, input_units):\n",
    "        self.input_units = input_units\n",
    "    \n",
    "        # Initialize random weights and a random bias \n",
    "        self.weights = np.random.randn(input_units)\n",
    "        self.bias = np.random.randn()\n",
    "        #learning rate as 1.\n",
    "        self.alpha = 1\n",
    "        \n",
    "        # We initialize variables to store input and drive of a neuron \n",
    "        self.inputs = 0\n",
    "        self.drive = 0\n",
    "        \n",
    "    def forward_step(self, inputs):\n",
    "        self.inputs = inputs\n",
    "        \n",
    "       # Perform a perceptron forward step.\n",
    "        # 1. calculating the drive as sum of weights*inputs + bias \n",
    "        self.drive = self.weights @ inputs + self.bias\n",
    "        # Return the activation.\n",
    "        return sigmoid(self.drive)\n",
    "        \n",
    "    def update(self, delta):\n",
    "        #Performing the updates \n",
    "        \n",
    "        # 1.Compute the gradients for weights and bias.\n",
    "        gradient_weights = delta * self.inputs\n",
    "        gradient_bias = delta\n",
    "        \n",
    "        # Update weights and bias.\n",
    "        self.weights -=  self.alpha * gradient_weights\n",
    "        self.bias -= self.alpha * gradient_bias"
   ]
  },
  {
   "cell_type": "code",
   "execution_count": 5,
   "metadata": {},
   "outputs": [],
   "source": [
    "# Implementing the multi-layer perceptron.\n",
    "\n",
    "class MLP:\n",
    "    \n",
    "    def __init__(self):\n",
    "        #we initialize the perceptrons for the hidden layer with 4 neurons.\n",
    "        self.hidden_layer = [\n",
    "            Perceptron(input_units=2),\n",
    "            Perceptron(input_units=2),\n",
    "            Perceptron(input_units=2),\n",
    "            Perceptron(input_units=2)\n",
    "        ]\n",
    "        \n",
    "        # Initializing the output neuron.\n",
    "        self.output_neuron = Perceptron(input_units=4)\n",
    "        self.output = 0\n",
    "        \n",
    "    def forward_step(self, inputs):\n",
    "        \n",
    "        # Compute the activations for the hidden layer.\n",
    "        activations_hidden = np.array([neuron.forward_step(inputs) for neuron in self.hidden_layer])\n",
    "        activations_hidden = np.reshape(activations_hidden, newshape=(-1))\n",
    "        \n",
    "        # Compute the activation of the output neuron and store it in 'self.output'.\n",
    "        self.output = self.output_neuron.forward_step(activations_hidden)\n",
    "        \n",
    "    def backprop_step(self, inputs, target):\n",
    "        \n",
    "        # Compute the delta at the output neuron.\n",
    "        output_delta = - (target - self.output) * sigmoid_derivative(self.output_neuron.drive)\n",
    "        # Update the parameters of  the output neuron.\n",
    "        self.output_neuron.update(output_delta)\n",
    "        # Compute the deltas for the hidden neurons.\n",
    "        hidden_deltas = [output_delta * sigmoid_derivative(neuron.drive) * self.output_neuron.weights[i] for i, neuron in enumerate(self.hidden_layer)]\n",
    "        # Update the parameters for all four neurons in the hidden layer.\n",
    "        for i,neuron in enumerate(self.hidden_layer):\n",
    "            neuron.update(hidden_deltas[i])\n"
   ]
  },
  {
   "cell_type": "code",
   "execution_count": 6,
   "metadata": {},
   "outputs": [],
   "source": [
    "# Train the MLP\n",
    "# Initialize the MLP.\n",
    "mlp = MLP()\n",
    "# Initialize lists to store epochs, loss, accuracy.\n",
    "epochs=[]\n",
    "losses=[]\n",
    "accuracies=[]\n",
    "\n",
    "for epoch in range(1000):\n",
    "    epochs.append(epoch)\n",
    "    \n",
    "    accuracy = 0\n",
    "    loss = 0\n",
    "    \n",
    "    # Training loop.\n",
    "    for i in range(len(X)):\n",
    "        x = X[i]\n",
    "        t = t_xor[i]\n",
    "    \n",
    "        # forward step with the given sample.\n",
    "        mlp.forward_step(x)\n",
    "        # backpropagation step with the given sample and target.\n",
    "        mlp.backprop_step(x,t)\n",
    "        \n",
    "        accuracy += int(float(mlp.output>=0.5) == t)\n",
    "        loss += (t-mlp.output)**2\n",
    "        \n",
    "    accuracies.append(accuracy/4.0)\n",
    "    losses.append(loss)"
   ]
  },
  {
   "cell_type": "code",
   "execution_count": 7,
   "metadata": {},
   "outputs": [
    {
     "data": {
      "image/png": "[encoded data removed]",
      "text/plain": [
       "<Figure size 432x288 with 1 Axes>"
      ]
     },
     "metadata": {
      "needs_background": "light"
     },
     "output_type": "display_data"
    },
    {
     "data": {
      "image/png": "[encoded data removed]",
      "text/plain": [
       "<Figure size 432x288 with 1 Axes>"
      ]
     },
     "metadata": {
      "needs_background": "light"
     },
     "output_type": "display_data"
    }
   ],
   "source": [
    "\n",
    "# Visualize the training progress.\n",
    "plt.figure()\n",
    "plt.plot(epochs,losses)\n",
    "plt.xlabel(\"Training Steps\")\n",
    "plt.ylabel(\"Loss\")\n",
    "plt.show()\n",
    "\n",
    "plt.figure()\n",
    "plt.plot(epochs,accuracies)\n",
    "plt.xlabel(\"Training Steps\")\n",
    "plt.ylabel(\"Accuracy\")\n",
    "plt.show()"
   ]
  }
 ],
 "metadata": {
  "kernelspec": {
   "display_name": "Python 3",
   "language": "python",
   "name": "python3"
  },
  "language_info": {
   "codemirror_mode": {
    "name": "ipython",
    "version": 3
   },
   "file_extension": ".py",
   "mimetype": "text/x-python",
   "name": "python",
   "nbconvert_exporter": "python",
   "pygments_lexer": "ipython3",
   "version": "3.7.9"
  }
 },
 "nbformat": 4,
 "nbformat_minor": 4
}
